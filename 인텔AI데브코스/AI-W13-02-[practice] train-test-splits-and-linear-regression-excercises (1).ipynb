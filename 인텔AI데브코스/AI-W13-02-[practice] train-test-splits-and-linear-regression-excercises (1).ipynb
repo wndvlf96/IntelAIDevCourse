{
 "cells": [
  {
   "cell_type": "markdown",
   "metadata": {
    "run_control": {
     "marked": true
    }
   },
   "source": [
    "# Train Test Splits, Cross Validation, and Linear Regression"
   ]
  },
  {
   "cell_type": "markdown",
   "metadata": {
    "run_control": {
     "marked": true
    }
   },
   "source": [
    "## Introduction\n",
    "\n",
    "We will be working with a data set based on [housing prices in Ames, Iowa](https://www.kaggle.com/c/house-prices-advanced-regression-techniques). It was compiled for educational use to be a modernized and expanded alternative to the well-known Boston Housing dataset. This version of the data set has had some missing values filled for convenience.\n",
    "\n",
    "There are an extensive number of features, so they've been described in the table below.\n",
    "\n",
    "### Predictor\n",
    "\n",
    "* SalePrice: The property's sale price in dollars. \n",
    "\n",
    "\n",
    "### Features\n",
    "\n",
    "<table>\n",
    "  <tbody>    \n",
    "    <tr valign=\"top\">\n",
    "      <td valign=\"top\">\n",
    "        <ul>\n",
    "          <li>MoSold: Month Sold</li>\n",
    "          <li>YrSold: Year Sold</li><br>\n",
    "          \n",
    "          <li>SaleType: Type of sale</li>\n",
    "          <li>SaleCondition: Condition of sale</li><br>\n",
    "\n",
    "          <li>MSSubClass: The building class</li>\n",
    "          <li>MSZoning: The general zoning classification</li><br>\n",
    "\n",
    "          <li>Neighborhood: Physical locations within Ames city limits</li>\n",
    "          <li>Street: Type of road access</li>\n",
    "          <li>Alley: Type of alley access</li><br>\n",
    "\n",
    "          <li>LotArea: Lot size in square feet</li>\n",
    "          <li>LotConfig: Lot configuration</li>\n",
    "          <li>LotFrontage: Linear feet of street connected to property</li>\n",
    "          <li>LotShape: General shape of property</li><br>\n",
    "\n",
    "          <li>LandSlope: Slope of property</li>\n",
    "          <li>LandContour: Flatness of the property</li><br>\n",
    "\n",
    "          <li>YearBuilt: Original construction date</li>\n",
    "          <li>YearRemodAdd: Remodel date</li>\n",
    "          <li>OverallQual: Overall material and finish quality</li>\n",
    "          <li>OverallCond: Overall condition rating</li><br>\n",
    "\n",
    "          <li>Utilities: Type of utilities available</li>\n",
    "          <li>Foundation: Type of foundation</li>\n",
    "          <li>Functional: Home functionality rating</li><br>\n",
    "\n",
    "          <li>BldgType: Type of dwelling</li>\n",
    "          <li>HouseStyle: Style of dwelling</li><br>\n",
    "          \n",
    "          <li>1stFlrSF: First Floor square feet</li>\n",
    "          <li>2ndFlrSF: Second floor square feet</li>\n",
    "          <li>LowQualFinSF: Low quality finished square feet (all floors)</li>\n",
    "          <li>GrLivArea: Above grade (ground) living area square feet</li>\n",
    "          <li>TotRmsAbvGrd: Total rooms above grade (does not include bathrooms)</li><br>\n",
    "\n",
    "          <li>Condition1: Proximity to main road or railroad</li>\n",
    "          <li>Condition2: Proximity to main road or railroad (if a second is present)</li><br>\n",
    "          \n",
    "          <li>RoofStyle: Type of roof</li>\n",
    "          <li>RoofMatl: Roof material</li><br>\n",
    "\n",
    "          <li>ExterQual: Exterior material quality</li>\n",
    "          <li>ExterCond: Present condition of the material on the exterior</li>\n",
    "          <li>Exterior1st: Exterior covering on house</li>\n",
    "          <li>Exterior2nd: Exterior covering on house (if more than one material)</li><br><br>\n",
    "          \n",
    "        </ul>\n",
    "      </td>\n",
    "      \n",
    "      <td valign=\"top\">\n",
    "        <ul>\n",
    "          <li>MasVnrType: Masonry veneer type</li>\n",
    "          <li>MasVnrArea: Masonry veneer area in square feet</li><br>\n",
    "          \n",
    "          <li>WoodDeckSF: Wood deck area in square feet</li>\n",
    "          <li>OpenPorchSF: Open porch area in square feet</li>\n",
    "          <li>EnclosedPorch: Enclosed porch area in square feet</li>\n",
    "          <li>3SsnPorch: Three season porch area in square feet</li>\n",
    "          <li>ScreenPorch: Screen porch area in square feet</li><br>\n",
    "\n",
    "          <li>PoolArea: Pool area in square feet</li>\n",
    "          <li>PoolQC: Pool quality</li>\n",
    "          <li>Fence: Fence quality</li>\n",
    "          <li>PavedDrive: Paved driveway</li><br>\n",
    "\n",
    "          <li>GarageType: Garage location</li>\n",
    "          <li>GarageYrBlt: Year garage was built</li>\n",
    "          <li>GarageFinish: Interior finish of the garage</li>\n",
    "          <li>GarageCars: Size of garage in car capacity</li>\n",
    "          <li>GarageArea: Size of garage in square feet</li>\n",
    "          <li>GarageQual: Garage quality</li>\n",
    "          <li>GarageCond: Garage condition</li><br>\n",
    "\n",
    "          <li>Heating: Type of heating</li>\n",
    "          <li>HeatingQC: Heating quality and condition</li>\n",
    "          <li>CentralAir: Central air conditioning</li>\n",
    "          <li>Electrical: Electrical system</li><br>\n",
    "          \n",
    "          <li>FullBath: Full bathrooms above grade</li>\n",
    "          <li>HalfBath: Half baths above grade</li><br>\n",
    "          \n",
    "          <li>BedroomAbvGr: Number of bedrooms above basement level</li><br>\n",
    "          \n",
    "          <li>KitchenAbvGr: Number of kitchens</li>\n",
    "          <li>KitchenQual: Kitchen quality</li><br>\n",
    "          \n",
    "          <li>Fireplaces: Number of fireplaces</li>\n",
    "          <li>FireplaceQu: Fireplace quality</li><br>\n",
    "          \n",
    "          <li>MiscFeature: Miscellaneous feature not covered in other categories</li>\n",
    "          <li>MiscVal: Value of miscellaneous feature</li><br>\n",
    "          \n",
    "          <li>BsmtQual: Height of the basement</li>\n",
    "          <li>BsmtCond: General condition of the basement</li>\n",
    "          <li>BsmtExposure: Walkout or garden level basement walls</li>\n",
    "          <li>BsmtFinType1: Quality of basement finished area</li>\n",
    "          <li>BsmtFinSF1: Type 1 finished square feet</li>\n",
    "          <li>BsmtFinType2: Quality of second finished area (if present)</li>\n",
    "          <li>BsmtFinSF2: Type 2 finished square feet</li>\n",
    "          <li>BsmtUnfSF: Unfinished square feet of basement area</li>\n",
    "          <li>BsmtFullBath: Basement full bathrooms</li>\n",
    "          <li>BsmtHalfBath: Basement half bathrooms</li>\n",
    "          <li>TotalBsmtSF: Total square feet of basement area</li>\n",
    "        </ul>\n",
    "      </td>\n",
    "    </tr>\n",
    "    \n",
    "  </tbody>\n",
    "</table>\n"
   ]
  },
  {
   "cell_type": "code",
   "execution_count": 1,
   "metadata": {
    "ExecuteTime": {
     "end_time": "2017-03-09T17:24:40.724060Z",
     "start_time": "2017-03-09T12:24:40.718739-05:00"
    },
    "run_control": {
     "marked": true
    }
   },
   "outputs": [],
   "source": [
    "from __future__ import print_function\n",
    "import os\n",
    "data_path = ['C:\\\\data']"
   ]
  },
  {
   "cell_type": "markdown",
   "metadata": {
    "run_control": {
     "marked": true
    }
   },
   "source": [
    "## Question 1\n",
    "\n",
    "* Import the data using Pandas and examine the shape. There are 79 feature columns plus the predictor, the sale price (`SalePrice`). \n",
    "* There are three different types: integers (`int64`), floats (`float64`), and strings (`object`, categoricals). Examine how many there are of each data type. "
   ]
  },
  {
   "cell_type": "code",
   "execution_count": 2,
   "metadata": {
    "run_control": {
     "marked": true
    }
   },
   "outputs": [
    {
     "name": "stdout",
     "output_type": "stream",
     "text": [
      "(1379, 80)\n"
     ]
    }
   ],
   "source": [
    "import pandas as pd\n",
    "import numpy as np\n",
    "\n",
    "# Import the data using the file path\n",
    "filepath = os.sep.join(data_path + ['Ames_Housing_Sales.csv'])\n",
    "data = pd.read_csv(filepath, sep=',')\n",
    "\n",
    "print(data.shape)\n"
   ]
  },
  {
   "cell_type": "code",
   "execution_count": 3,
   "metadata": {
    "run_control": {
     "marked": true
    }
   },
   "outputs": [
    {
     "data": {
      "text/plain": [
       "object     43\n",
       "float64    21\n",
       "int64      16\n",
       "dtype: int64"
      ]
     },
     "execution_count": 3,
     "metadata": {},
     "output_type": "execute_result"
    }
   ],
   "source": [
    "data.dtypes.value_counts() "
   ]
  },
  {
   "cell_type": "markdown",
   "metadata": {
    "run_control": {
     "marked": true
    }
   },
   "source": [
    "## Question 2\n",
    "\n",
    "As discussed in the lecture, a significant challenge, particularly when dealing with data that have many columns, is ensuring each column gets encoded correctly. \n",
    "\n",
    "This is particularly true with data columns that are ordered categoricals (ordinals) vs unordered categoricals. Unordered categoricals should be one-hot encoded, however this can significantly increase the number of features and creates features that are highly correlated with each other.\n",
    "\n",
    "Determine how many total features would be present, relative to what currently exists, if all string (object) features are one-hot encoded. Recall that the total number of one-hot encoded columns is `n-1`, where `n` is the number of categories."
   ]
  },
  {
   "cell_type": "code",
   "execution_count": 10,
   "metadata": {
    "run_control": {
     "marked": true
    }
   },
   "outputs": [
    {
     "data": {
      "text/plain": [
       "Index(['Alley', 'BldgType', 'BsmtCond', 'BsmtExposure', 'BsmtFinType1',\n",
       "       'BsmtFinType2', 'BsmtQual', 'CentralAir', 'Condition1', 'Condition2',\n",
       "       'Electrical', 'ExterCond', 'ExterQual', 'Exterior1st', 'Exterior2nd',\n",
       "       'Fence', 'FireplaceQu', 'Foundation', 'Functional', 'GarageCond',\n",
       "       'GarageFinish', 'GarageQual', 'GarageType', 'Heating', 'HeatingQC',\n",
       "       'HouseStyle', 'KitchenQual', 'LandContour', 'LandSlope', 'LotConfig',\n",
       "       'LotShape', 'MSZoning', 'MasVnrType', 'MiscFeature', 'Neighborhood',\n",
       "       'PavedDrive', 'PoolQC', 'RoofMatl', 'RoofStyle', 'SaleCondition',\n",
       "       'SaleType', 'Street', 'Utilities'],\n",
       "      dtype='object')"
      ]
     },
     "execution_count": 10,
     "metadata": {},
     "output_type": "execute_result"
    }
   ],
   "source": [
    "mask = data.dtypes == np.object\n",
    "categorical_cols = data.columns[mask]\n",
    "mask\n",
    "categorical_cols"
   ]
  },
  {
   "cell_type": "code",
   "execution_count": 11,
   "metadata": {
    "run_control": {
     "marked": true
    }
   },
   "outputs": [
    {
     "data": {
      "text/plain": [
       "215"
      ]
     },
     "execution_count": 11,
     "metadata": {},
     "output_type": "execute_result"
    }
   ],
   "source": [
    "# Determine how many extra columns would be created\n",
    "num_ohc_cols = (data[categorical_cols]\n",
    "                .apply(lambda x: x.nunique())\n",
    "                .sort_values(ascending=False))\n",
    "\n",
    "# No need to encode if there is only one value\n",
    "small_num_ohc_cols = num_ohc_cols.loc[num_ohc_cols>1]\n",
    "\n",
    "# Number of one-hot columns is one less than the number of categories\n",
    "#1을 뺀 숫자만큼 생기니까 1을 빼줘야댐\n",
    "small_num_ohc_cols -= 1\n",
    "\n",
    "# This is 215 columns, assuming the original ones are dropped. \n",
    "# This is quite a few extra columns!\n",
    "small_num_ohc_cols.sum()"
   ]
  },
  {
   "cell_type": "markdown",
   "metadata": {
    "run_control": {
     "marked": true
    }
   },
   "source": [
    "## Question 3\n",
    "\n",
    "Let's create a new data set where all of the above categorical features will be one-hot encoded. We can fit this data and see how it affects the results.\n",
    "\n",
    "* Used the dataframe `.copy()` method to create a completely separate copy of the dataframe for one-hot encoding\n",
    "* On this new dataframe, one-hot encode each of the appropriate columns and add it back to the dataframe. Be sure to drop the original column.\n",
    "* For the data that are not one-hot encoded, drop the columns that are string categoricals.\n",
    "\n",
    "For the first step, numerically encoding the string categoricals, either Scikit-learn;s `LabelEncoder` or `DictVectorizer` can be used. However, the former is probably easier since it doesn't require specifying a numerical value for each category, and we are going to one-hot encode all of the numerical values anyway. (Can you think of a time when `DictVectorizer` might be preferred?)"
   ]
  },
  {
   "cell_type": "code",
   "execution_count": 14,
   "metadata": {
    "run_control": {
     "marked": true
    }
   },
   "outputs": [],
   "source": [
    "#카테고리컬형 데이터 원핫 인코딩 그리고 버리기\n",
    "from sklearn.preprocessing import OneHotEncoder, LabelEncoder\n",
    "\n",
    "# Copy of the data\n",
    "data_ohc = data.copy()\n",
    "\n",
    "# The encoders\n",
    "le = LabelEncoder()\n",
    "ohc = OneHotEncoder()\n",
    "for col in num_ohc_cols.index:\n",
    "    # Integer encode the string categories\n",
    "    #int형으로 바꿔주기\n",
    "    dat = le.fit_transform(data_ohc[col]).astype(np.int)\n",
    "    # Remove the original column from the dataframe\n",
    "    \n",
    "    data_ohc = data_ohc.drop(col, axis=1)\n",
    "    # One hot encode the data--this returns a sparse array\n",
    "    #2차원으로 바꿔주기\n",
    "    new_dat = ohc.fit_transform(dat.reshape(-1,1))\n",
    "    # Create unique column names\n",
    "    n_cols = new_dat.shape[1]\n",
    "    col_names = ['_'.join([col, str(x)]) for x in range(n_cols)]\n",
    "    # Create the new dataframe\n",
    "    new_df = pd.DataFrame(new_dat.toarray(), \n",
    "                          index=data_ohc.index, \n",
    "                          columns=col_names)\n",
    "    # Append the new data to the dataframe\n",
    "    data_ohc = pd.concat([data_ohc, new_df], axis=1)"
   ]
  },
  {
   "cell_type": "code",
   "execution_count": 15,
   "metadata": {
    "run_control": {
     "marked": true
    }
   },
   "outputs": [
    {
     "data": {
      "text/plain": [
       "215"
      ]
     },
     "execution_count": 15,
     "metadata": {},
     "output_type": "execute_result"
    }
   ],
   "source": [
    "# Column difference is as calculated above\n",
    "data_ohc.shape[1] - data.shape[1]"
   ]
  },
  {
   "cell_type": "code",
   "execution_count": 16,
   "metadata": {
    "run_control": {
     "marked": true
    }
   },
   "outputs": [
    {
     "name": "stdout",
     "output_type": "stream",
     "text": [
      "80\n",
      "37\n"
     ]
    }
   ],
   "source": [
    "print(data.shape[1])\n",
    "\n",
    "# Remove the string columns from the dataframe\n",
    "#데이터에서 버리기\n",
    "data = data.drop(num_ohc_cols.index, axis=1)\n",
    "\n",
    "print(data.shape[1])"
   ]
  },
  {
   "cell_type": "markdown",
   "metadata": {
    "run_control": {
     "marked": true
    }
   },
   "source": [
    "## Question 4\n",
    "\n",
    "* Create train and test splits of both data sets. To ensure the data gets split the same way, use the same `random_state` in each of the two splits.\n",
    "* For each data set, fit a basic linear regression model on the training data. \n",
    "* Calculate the mean squared error on both the train and test sets for the respective models. Which model produces smaller error on the test data and why?"
   ]
  },
  {
   "cell_type": "code",
   "execution_count": 17,
   "metadata": {
    "run_control": {
     "marked": true
    }
   },
   "outputs": [],
   "source": [
    "#데이터를 트레인과 테스트로 나누기\n",
    "from sklearn.model_selection import train_test_split\n",
    "#정답 이름들 담은 열\n",
    "y_col = 'SalePrice'\n",
    "\n",
    "# Split the data that is not one-hot encoded\n",
    "feature_cols = [x for x in data.columns if x != y_col]\n",
    "X_data = data[feature_cols]\n",
    "y_data = data[y_col]\n",
    "#30프로를 테스트로\n",
    "X_train, X_test, y_train, y_test = train_test_split(X_data, y_data, \n",
    "                                                    test_size=0.3, random_state=42)\n",
    "# Split the data that is one-hot encoded\n",
    "feature_cols = [x for x in data_ohc.columns if x != y_col]\n",
    "X_data_ohc = data_ohc[feature_cols]\n",
    "y_data_ohc = data_ohc[y_col]\n",
    "\n",
    "X_train_ohc, X_test_ohc, y_train_ohc, y_test_ohc = train_test_split(X_data_ohc, y_data_ohc, \n",
    "                                                    test_size=0.3, random_state=42)"
   ]
  },
  {
   "cell_type": "code",
   "execution_count": 18,
   "metadata": {
    "run_control": {
     "marked": true
    }
   },
   "outputs": [
    {
     "data": {
      "text/plain": [
       "True"
      ]
     },
     "execution_count": 18,
     "metadata": {},
     "output_type": "execute_result"
    }
   ],
   "source": [
    "# Compare the indices to ensure they are identical\n",
    "(X_train_ohc.index == X_train.index).all()"
   ]
  },
  {
   "cell_type": "code",
   "execution_count": 19,
   "metadata": {
    "run_control": {
     "marked": true
    }
   },
   "outputs": [
    {
     "data": {
      "text/html": [
       "<div>\n",
       "<style scoped>\n",
       "    .dataframe tbody tr th:only-of-type {\n",
       "        vertical-align: middle;\n",
       "    }\n",
       "\n",
       "    .dataframe tbody tr th {\n",
       "        vertical-align: top;\n",
       "    }\n",
       "\n",
       "    .dataframe thead th {\n",
       "        text-align: right;\n",
       "    }\n",
       "</style>\n",
       "<table border=\"1\" class=\"dataframe\">\n",
       "  <thead>\n",
       "    <tr style=\"text-align: right;\">\n",
       "      <th></th>\n",
       "      <th>no enc</th>\n",
       "      <th>one-hot enc</th>\n",
       "    </tr>\n",
       "  </thead>\n",
       "  <tbody>\n",
       "    <tr>\n",
       "      <th>train</th>\n",
       "      <td>1.131507e+09</td>\n",
       "      <td>3.177290e+08</td>\n",
       "    </tr>\n",
       "    <tr>\n",
       "      <th>test</th>\n",
       "      <td>1.372182e+09</td>\n",
       "      <td>3.484285e+18</td>\n",
       "    </tr>\n",
       "  </tbody>\n",
       "</table>\n",
       "</div>"
      ],
      "text/plain": [
       "             no enc   one-hot enc\n",
       "train  1.131507e+09  3.177290e+08\n",
       "test   1.372182e+09  3.484285e+18"
      ]
     },
     "execution_count": 19,
     "metadata": {},
     "output_type": "execute_result"
    }
   ],
   "source": [
    "from sklearn.linear_model import LinearRegression\n",
    "from sklearn.metrics import mean_squared_error\n",
    "\n",
    "LR = LinearRegression()\n",
    "\n",
    "# Storage for error values\n",
    "error_df = list()\n",
    "\n",
    "# Data that have not been one-hot encoded\n",
    "LR = LR.fit(X_train, y_train)\n",
    "y_train_pred = LR.predict(X_train)\n",
    "y_test_pred = LR.predict(X_test)\n",
    "#결과값 확인하기\n",
    "error_df.append(pd.Series({'train': mean_squared_error(y_train, y_train_pred),\n",
    "                           'test' : mean_squared_error(y_test,  y_test_pred)},\n",
    "                           name='no enc'))\n",
    "\n",
    "# Data that have been one-hot encoded\n",
    "LR = LR.fit(X_train_ohc, y_train_ohc)\n",
    "y_train_ohc_pred = LR.predict(X_train_ohc)\n",
    "y_test_ohc_pred = LR.predict(X_test_ohc)\n",
    "\n",
    "error_df.append(pd.Series({'train': mean_squared_error(y_train_ohc, y_train_ohc_pred),\n",
    "                           'test' : mean_squared_error(y_test_ohc,  y_test_ohc_pred)},\n",
    "                          name='one-hot enc'))\n",
    "#결과적으로 이때는 인코딩 안 한게 더 좋게 나옴!!!\n",
    "# Assemble the results\n",
    "error_df = pd.concat(error_df, axis=1)\n",
    "error_df"
   ]
  },
  {
   "cell_type": "markdown",
   "metadata": {
    "run_control": {
     "marked": true
    }
   },
   "source": [
    "Note that the error values on the one-hot encoded data are very different for the train and test data. In particular, the errors on the test data are much higher. Based on the lecture, this is because the one-hot encoded model is overfitting the data. We will learn how to deal with issues like this in the next lesson."
   ]
  },
  {
   "cell_type": "markdown",
   "metadata": {
    "run_control": {
     "marked": true
    }
   },
   "source": [
    "## Question 5\n",
    "\n",
    "For each of the data sets (one-hot encoded and not encoded):\n",
    "\n",
    "* Scale the all the non-hot encoded values using one of the following: `StandardScaler`, `MinMaxScaler`, `MaxAbsScaler`.\n",
    "* Compare the error calculated on the test sets\n",
    "\n",
    "Be sure to calculate the skew (to decide if a transformation should be done) and fit the scaler on *ONLY* the training data, but then apply it to both the train and test data identically."
   ]
  },
  {
   "cell_type": "code",
   "execution_count": 20,
   "metadata": {},
   "outputs": [],
   "source": [
    "# Mute the setting wtih a copy warnings\n",
    "pd.options.mode.chained_assignment = None"
   ]
  },
  {
   "cell_type": "code",
   "execution_count": null,
   "metadata": {},
   "outputs": [],
   "source": []
  },
  {
   "cell_type": "markdown",
   "metadata": {
    "run_control": {
     "marked": true
    }
   },
   "source": [
    "## Question 6\n",
    "\n",
    "Plot predictions vs actual for one of the models."
   ]
  },
  {
   "cell_type": "code",
   "execution_count": 21,
   "metadata": {
    "run_control": {
     "marked": true
    }
   },
   "outputs": [
    {
     "data": {
      "image/png": "[encoded data removed]",
      "text/plain": [
       "<Figure size 432x288 with 1 Axes>"
      ]
     },
     "metadata": {},
     "output_type": "display_data"
    }
   ],
   "source": [
    "import matplotlib.pyplot as plt\n",
    "import seaborn as sns\n",
    "%matplotlib inline\n",
    "\n",
    "\n",
    "sns.set_context('talk')\n",
    "sns.set_style('ticks')\n",
    "sns.set_palette('dark')\n",
    "\n",
    "ax = plt.axes()\n",
    "# we are going to use y_test, y_test_pred\n",
    "ax.scatter(y_test, y_test_pred, alpha=.5)\n",
    "\n",
    "ax.set(xlabel='Ground truth', \n",
    "       ylabel='Predictions',\n",
    "       title='Ames, Iowa House Price Predictions vs Truth, using Linear Regression');"
   ]
  },
  {
   "cell_type": "code",
   "execution_count": null,
   "metadata": {},
   "outputs": [],
   "source": []
  }
 ],
 "metadata": {
  "anaconda-cloud": {},
  "kernelspec": {
   "display_name": "Python 3",
   "language": "python",
   "name": "python3"
  },
  "language_info": {
   "codemirror_mode": {
    "name": "ipython",
    "version": 3
   },
   "file_extension": ".py",
   "mimetype": "text/x-python",
   "name": "python",
   "nbconvert_exporter": "python",
   "pygments_lexer": "ipython3",
   "version": "3.8.3"
  },
  "name": "Train_Test_Splits_Regularization_Exercises-ANSWERS",
  "notebookId": 2125319687183944
 },
 "nbformat": 4,
 "nbformat_minor": 1
}
